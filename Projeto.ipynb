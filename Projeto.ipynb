{
 "cells": [
  {
   "cell_type": "code",
   "execution_count": null,
   "id": "d4714373",
   "metadata": {},
   "outputs": [],
   "source": [
    "opcao = \"\"\n",
    "matricula = []\n",
    "nome = []\n",
    "mediaPonderada = []\n",
    "while opcao != \"SAIR\": \n",
    "    opcao = input(\"Bem vido ao sistema de cadastro \\n Selecione uma das opções a seguir: \\n A - CADASTRAR UM ALUNO \\n B - CONSTULTAR UM CADASTRO \\n C - APAGAR UM CADASTRO \\n SAIR - FECHAR O SISTEMA DE CADASTRO \\n\")\n",
    "    while opcao == \"A\": \n",
    "        print(\"#### TELA DE CADASTRO ####\")\n",
    "        matAluno = input(\"Digite o a matrícula do aluno: \\n\")\n",
    "        matricula.append(matAluno)\n",
    "        nomeAluno = input(\"Digite o nome do aluno: \\n\")\n",
    "        nome.append(nomeAluno)\n",
    "        mediaPond = float(input (\"Digite a média desse aluno: \\n\"))\n",
    "        mediaPonderada.append(mediaPond)\n",
    "        validacao = \"E\"\n",
    "        while validacao == \"E\":\n",
    "            validacao = input(\"Você gostária de realizar mais um cadastro? S ou N\\n\")\n",
    "            if validacao == \"S\":\n",
    "                opcao = \"A\"\n",
    "                validacao = \"\"\n",
    "            elif validacao == \"N\":\n",
    "                opcao = \"\"\n",
    "                validacao = \"\"\n",
    "            else: \n",
    "                print(\"Opção inexistente, tente novamente\")\n",
    "                validacao = \"E\"\n",
    "    while opcao == \"B\":\n",
    "        print(\"### TELA DE CONSULTA ###\")\n",
    "        pesquisa = input(\"Digite o código, nome ou média do aluno:\\n\")\n",
    "        for x in matricula:\n",
    "            if x == pesquisa: \n",
    "                posicao = matricula.index(pesquisa)\n",
    "                print(\"####Código encontrado no sistema, segue as informações do estudante####\")\n",
    "                print(\"\\nCódigo: \"+str(pesquisa)+\"\\nNome: \"+str(nome[posicao])+\"\\nMédia ponderada: \"+str(mediaPonderada[posicao])) \n",
    "        for x in nome: \n",
    "            if x == pesquisa: \n",
    "                posicao = nome.index(pesquisa)\n",
    "                print(\"####Nome encontrado no sistema, segue as informações do estudante####\")\n",
    "                print(\"\\nCódigo: \"+str(matricula[posicao])+\"\\nNome: \"+str(nome[posicao])+\"\\nMédia ponderada: \"+str(mediaPonderada[posicao]))\n",
    "        validacao = pesquisa.isnumeric()\n",
    "        if validacao == True:\n",
    "            conversaoPesquisa = float(pesquisa)\n",
    "        for x in mediaPonderada: \n",
    "            if x == conversaoPesquisa: \n",
    "                posicao = mediaPonderada.index(conversaoPesquisa)\n",
    "                print(\"####Média encontrada no sistema, segue as informações do estudante####\")\n",
    "                print(\"\\nCódigo: \"+str(matricula[posicao])+\"\\nNome: \"+str(nome[posicao])+\"\\nMédia ponderada: \"+str(mediaPonderada[posicao]))\n",
    "        while validacao == \"E\":\n",
    "            validacao = input(\"Você gostária de realizar mais uma pesquisa? S ou N\\n\")\n",
    "            if validacao == \"S\":\n",
    "                opcao = \"A\"\n",
    "                validacao = \"\"\n",
    "            elif validacao == \"N\":\n",
    "                opcao = \"\"\n",
    "                validacao = \"\"\n",
    "            else: \n",
    "                print(\"Opção inexistente, tente novamente\")\n",
    "                validacao = \"E\"\n",
    "                "
   ]
  },
  {
   "cell_type": "code",
   "execution_count": null,
   "id": "d0b4d291",
   "metadata": {},
   "outputs": [],
   "source": []
  },
  {
   "cell_type": "code",
   "execution_count": null,
   "id": "03e86750",
   "metadata": {},
   "outputs": [],
   "source": []
  }
 ],
 "metadata": {
  "kernelspec": {
   "display_name": "Python 3 (ipykernel)",
   "language": "python",
   "name": "python3"
  },
  "language_info": {
   "codemirror_mode": {
    "name": "ipython",
    "version": 3
   },
   "file_extension": ".py",
   "mimetype": "text/x-python",
   "name": "python",
   "nbconvert_exporter": "python",
   "pygments_lexer": "ipython3",
   "version": "3.9.12"
  }
 },
 "nbformat": 4,
 "nbformat_minor": 5
}
